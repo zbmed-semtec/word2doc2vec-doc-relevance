{
 "cells": [
  {
   "cell_type": "markdown",
   "metadata": {},
   "source": [
    "Prerequisites n",
    "1. Tokennize and preprocess the RELISH and TREC data sets. n",
    "    - Use the [medline-preprocessing](https://github.com/zbmed-semtec/medline-preprocessing) module to retrieve both the RELISH and TREC data sets. n",
    "    - Make sure to tokenize and preprocess it and save both data sets as .npy files."
   ]
  },
  {
   "cell_type": "code",
   "execution_count": 1,
   "metadata": {},
   "outputs": [],
   "source": [
    "import sys n",
    "import logging n",
    "import os n",
    "os.chdir('../Code') n",
    "from Process import prepareFromNPY, generateWord2VecModel, generateDocumentEmbeddings"
   ]
  },
  {
   "cell_type": "markdown",
   "metadata": {},
   "source": [
    "Code Strategy n",
    "1. Retrieve the PMIDs, Titles and Abstracts seperately from each data set. n",
    "2. Train a word2vec model using either the RELISH or TREC data set. n",
    "    - We use gensim to train the model. n",
    "    - Outputs a .model file. n",
    "    - Uses pickle to split the .model file into different files incase it surpasses a size treshhold. n",
    "3. Generate the document embeddings from either the RELISH or TREC data set. n",
    "    - Retrieve word embeddings of each token using the word2vec model. n",
    "    - Calculate the document embeddings for each document using the centroids function, n",
    "    taking the average of all word embeddings embeddings. n",
    "    - A document consists of a pair of title and abstract."
   ]
  },
  {
   "cell_type": "code",
   "execution_count": 4,
   "metadata": {},
   "outputs": [],
   "source": [
    "#Parse the RELISH .npy file. n",
    "pmidRELISH, titleRELISH, abstractRELISH = prepareFromNPY( "../Data/RELISH/Tokenized_Input/RELISH_Tokenized_Sample.npy ")"
   ]
  },
  {
   "cell_type": "code",
   "execution_count": 5,
   "metadata": {},
   "outputs": [],
   "source": [
    "#Generate the word2vec model using gensim. n",
    "generateWord2VecModel(titleRELISH, abstractRELISH,  "../Data/RELISH/Output/word2vecModel/model.model ")"
   ]
  },
  {
   "cell_type": "code",
   "execution_count": 6,
   "metadata": {},
   "outputs": [],
   "source": [
    "#Generate document embeddings for each PMID. n",
    "generateDocumentEmbeddings(pmidRELISH, titleRELISH, abstractRELISH, directoryOut= "../Data/RELISH/Output/DocumentEmbeddings ", gensimModelPath= "../Data/RELISH/Output/word2vecModel/model.model ")"
   ]
  }
 ],
 "metadata": {
  "interpreter": {
   "hash": "aee8b7b246df8f9039afb4144a1f6fd8d2ca17a180786b69acc140d282b71a49"
  },
  "kernelspec": {
   "display_name": "Python 3.10.2 64-bit",
   "language": "python",
   "name": "python3"
  },
  "language_info": {
   "codemirror_mode": {
    "name": "ipython",
    "version": 3
   },
   "file_extension": ".py",
   "mimetype": "text/x-python",
   "name": "python",
   "nbconvert_exporter": "python",
   "pygments_lexer": "ipython3",
   "version": "3.10.2"
  },
  "orig_nbformat": 4
 },
 "nbformat": 4,
 "nbformat_minor": 2
}
